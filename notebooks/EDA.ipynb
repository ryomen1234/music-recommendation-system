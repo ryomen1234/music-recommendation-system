{
  "cells": [
    {
      "cell_type": "code",
      "execution_count": 1,
      "id": "d2cdd051",
      "metadata": {
        "id": "d2cdd051"
      },
      "outputs": [],
      "source": [
        "import pandas as pandas\n",
        "import matplotlib.pyplot as pyplot\n",
        "import seaborn as sns\n"
      ]
    },
    {
      "cell_type": "code",
      "execution_count": null,
      "id": "8fb6a09c",
      "metadata": {
        "id": "8fb6a09c"
      },
      "outputs": [],
      "source": []
    }
  ],
  "metadata": {
    "kernelspec": {
      "display_name": "env0",
      "language": "python",
      "name": "python3"
    },
    "language_info": {
      "name": "python",
      "version": "3.12.10"
    },
    "colab": {
      "provenance": []
    }
  },
  "nbformat": 4,
  "nbformat_minor": 5
}